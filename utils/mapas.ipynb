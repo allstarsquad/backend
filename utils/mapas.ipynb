{
 "cells": [
  {
   "cell_type": "code",
   "execution_count": 1,
   "metadata": {},
   "outputs": [],
   "source": [
    "import folium\n",
    "import pandas as pd\n",
    "\n",
    "import warnings\n",
    "warnings.filterwarnings('ignore')"
   ]
  },
  {
   "attachments": {},
   "cell_type": "markdown",
   "metadata": {},
   "source": [
    "### Mapa de Bens Dominicais a Venda"
   ]
  },
  {
   "cell_type": "code",
   "execution_count": 2,
   "metadata": {},
   "outputs": [],
   "source": [
    "ponts = [[-15.847095, -47.714898, 'DF'], [-14.907639, -42.139336, 'BA'], [-14.163217, -53.674981, 'MT'], \n",
    "[-22.436426, -43.721368, 'RJ'], [-22.966140, -43.377809, 'RJ'], [-30.270430, -53.864138, 'RS'], \n",
    "[-26.875016, -49.249881, 'SC'], [-29.890162, -55.665896, 'SC'], [-10.500748, -58.434451, 'MT'], \n",
    "[-6.109941, -41.295779, 'PI'], [-21.699033, -41.907842, 'RJ'], [-22.919764, -43.563587, 'RJ']]"
   ]
  },
  {
   "cell_type": "code",
   "execution_count": 3,
   "metadata": {},
   "outputs": [],
   "source": [
    "df_loc = pd.DataFrame(ponts, columns=[\"Lat\", \"Long\", \"Estado\"])"
   ]
  },
  {
   "cell_type": "code",
   "execution_count": 4,
   "metadata": {},
   "outputs": [],
   "source": [
    "dicio_estados = {\n",
    "    \"AC\":0,\n",
    "    'AL':0,\n",
    "    'AP':0,\n",
    "    'AM':0,\n",
    "    'BA':0,\n",
    "    'CE':0,\n",
    "    'DF':0,\n",
    "    'ES':0,\n",
    "    'MA':0,\n",
    "    'MT':0,\n",
    "    'MS':0,\n",
    "    'MG':0,\n",
    "    'PA':0,\n",
    "    'PB':0,\n",
    "    'PR':0,\n",
    "    'PE':0,\n",
    "    'PI':0,\n",
    "    'RJ':0,\n",
    "    'RN':0,\n",
    "    'RS':0,\n",
    "    'RO':0,\n",
    "    'RR':0,\n",
    "    'SC':0,\n",
    "    'SP':0,\n",
    "    'SE':0,\n",
    "    'TO':0,\n",
    "    'GO':0\n",
    "    }"
   ]
  },
  {
   "cell_type": "code",
   "execution_count": 5,
   "metadata": {},
   "outputs": [],
   "source": [
    "dominical = []\n",
    "\n",
    "for idx, row in df_loc.iterrows():\n",
    "    dicio_estados[row['Estado']]+=1\n",
    "    dominical.append((row['Lat'], row['Long']))"
   ]
  },
  {
   "cell_type": "code",
   "execution_count": 6,
   "metadata": {},
   "outputs": [],
   "source": [
    "states_total = []\n",
    "\n",
    "for i in dicio_estados:\n",
    "    states_total.append([i, dicio_estados[i]])\n",
    "\n",
    "df_venda = pd.DataFrame(states_total, columns=[\"Estados\", \"Quantidade\"])"
   ]
  },
  {
   "cell_type": "code",
   "execution_count": 7,
   "metadata": {},
   "outputs": [],
   "source": [
    "mapa_venda = folium.Map(location=[-15.804486, -47.877633], zoom_start=4.5, control_scale=True)\n",
    "folium.TileLayer(\"Stamen Terrain\").add_to(mapa_venda)\n",
    "\n",
    "dominical_group = folium.FeatureGroup(name=\"Bens Dominicais a Venda\").add_to(mapa_venda)\n",
    "\n",
    "for tuple in dominical:\n",
    "    icon=folium.Icon(color='green', icon='money', prefix='fa')\n",
    "    dominical_group.add_child(folium.Marker(tuple, icon=icon, \n",
    "    popup=\"\"\"\n",
    "    ID: 0002-0004<br>\n",
    "    CEP: 8890000<br>\n",
    "    Número: 125<br>\n",
    "    Topografia: topografia.jpeg<br>\n",
    "    Memorial Descritivo: descritivo.jpeg<br>\n",
    "    Dono: Governo Federal<br>\n",
    "    Foto: https://resizedimgs.zapimoveis.com.br/fit-in/800x360/named.images.sp/ed7ee0c95b8821c30e5a6b10c174badc/terreno-lote-condominio-a-venda-406m-no-casa-grande-rio-das-ostras.jpg<br>\n",
    "    <a href=\"url.com\">Ir para Detalhes do Imóvel</a>\n",
    "    \"\"\"))\n",
    "\n",
    "\n",
    "folium.Choropleth(\n",
    "    geo_data='brasil_estados.json', name='Quantidade de Bens Dominicais a Venda por Estado', data=df_venda, columns=[\"Estados\", \"Quantidade\"],\n",
    "    key_on=\"feature.id\", legend_name=\"Quantidade de Bens Dominicais\", fill_color='YlGnBu', fill_opacity=0.45).add_to(mapa_venda)\n",
    "\n",
    "folium.LayerControl(collapsed=False).add_to(mapa_venda)\n",
    "\n",
    "mapa_venda.save(\"mapa_venda.html\")"
   ]
  },
  {
   "attachments": {},
   "cell_type": "markdown",
   "metadata": {},
   "source": [
    "### Mapa de Bens Dominicais Despadronizados"
   ]
  },
  {
   "cell_type": "code",
   "execution_count": 8,
   "metadata": {},
   "outputs": [],
   "source": [
    "ponts = [[-15.847095, -47.714898, 'DF'], [-14.907639, -42.139336, 'BA'], [-14.163217, -53.674981, 'MT'], \n",
    "[-21.381867, -41.085874, 'RJ'], [-22.966140, -43.377809, 'RJ'], [-30.270430, -53.864138, 'RS'], \n",
    "[-26.875016, -49.249881, 'SC'], [-29.890162, -55.665896, 'SC'], [-10.500748, -58.434451, 'MT'], \n",
    "[-6.109941, -41.295779, 'PI'], [-8.474613, -35.077850, 'PE']]"
   ]
  },
  {
   "cell_type": "code",
   "execution_count": 9,
   "metadata": {},
   "outputs": [],
   "source": [
    "df_loc = pd.DataFrame(ponts, columns=[\"Lat\", \"Long\", \"Estado\"])"
   ]
  },
  {
   "cell_type": "code",
   "execution_count": 10,
   "metadata": {},
   "outputs": [],
   "source": [
    "dicio_estados_des = {\n",
    "    \"AC\":0,\n",
    "    'AL':0,\n",
    "    'AP':0,\n",
    "    'AM':0,\n",
    "    'BA':0,\n",
    "    'CE':0,\n",
    "    'DF':0,\n",
    "    'ES':0,\n",
    "    'MA':0,\n",
    "    'MT':0,\n",
    "    'MS':0,\n",
    "    'MG':0,\n",
    "    'PA':0,\n",
    "    'PB':0,\n",
    "    'PR':0,\n",
    "    'PE':0,\n",
    "    'PI':0,\n",
    "    'RJ':0,\n",
    "    'RN':0,\n",
    "    'RS':0,\n",
    "    'RO':0,\n",
    "    'RR':0,\n",
    "    'SC':0,\n",
    "    'SP':0,\n",
    "    'SE':0,\n",
    "    'TO':0,\n",
    "    'GO':0\n",
    "    }"
   ]
  },
  {
   "cell_type": "code",
   "execution_count": 11,
   "metadata": {},
   "outputs": [],
   "source": [
    "despadronizado = []\n",
    "\n",
    "for idx, row in df_loc.iterrows():\n",
    "    dicio_estados_des[row['Estado']]+=1\n",
    "    despadronizado.append((row['Lat'], row['Long']))"
   ]
  },
  {
   "cell_type": "code",
   "execution_count": 12,
   "metadata": {},
   "outputs": [],
   "source": [
    "states_total = []\n",
    "\n",
    "for i in dicio_estados_des:\n",
    "    states_total.append([i, dicio_estados_des[i]])\n",
    "\n",
    "df_des = pd.DataFrame(states_total, columns=[\"Estados\", \"Quantidade\"])"
   ]
  },
  {
   "cell_type": "code",
   "execution_count": 13,
   "metadata": {},
   "outputs": [],
   "source": [
    "mapa_despadronizado = folium.Map(location=[-15.804486, -47.877633], zoom_start=4.5, control_scale=True)\n",
    "folium.TileLayer(\"Stamen Terrain\").add_to(mapa_despadronizado)\n",
    "\n",
    "dominical_despadronizado_group = folium.FeatureGroup(name=\"Bens Dominicais Despadronizados\").add_to(mapa_despadronizado)\n",
    "\n",
    "for tuple in despadronizado:\n",
    "    icon=folium.Icon(color='red', icon='exclamation-triangle', prefix='fa')\n",
    "    dominical_despadronizado_group.add_child(folium.Marker(tuple, icon=icon, \n",
    "    popup=\"\"\"\n",
    "    ID: 0002-0004<br>\n",
    "    CEP: 8890000<br>\n",
    "    Número: 125<br>\n",
    "    Topografia: topografia.jpeg<br>\n",
    "    Memorial Descritivo: descritivo.jpeg<br>\n",
    "    Dono: Governo Federal<br>\n",
    "    Foto: https://resizedimgs.zapimoveis.com.br/fit-in/800x360/named.images.sp/ed7ee0c95b8821c30e5a6b10c174badc/terreno-lote-condominio-a-venda-406m-no-casa-grande-rio-das-ostras.jpg<br>\n",
    "    <a href=\"url.com\">Ir para Detalhes do Imóvel</a>\n",
    "    \"\"\"))\n",
    "\n",
    "\n",
    "folium.Choropleth(\n",
    "    geo_data='brasil_estados.json', name='Quantidade de Bens Despadronizados por Estado', data=df_des, columns=[\"Estados\", \"Quantidade\"],\n",
    "    key_on=\"feature.id\", legend_name=\"Quantidade de Bens Dominicais Despadronizados\", fill_color='YlGnBu', fill_opacity=0.45).add_to(mapa_despadronizado)\n",
    "\n",
    "folium.LayerControl(collapsed=False).add_to(mapa_despadronizado)\n",
    "\n",
    "mapa_despadronizado.save(\"mapa_despadronizado.html\")"
   ]
  }
 ],
 "metadata": {
  "kernelspec": {
   "display_name": "Python 3",
   "language": "python",
   "name": "python3"
  },
  "language_info": {
   "codemirror_mode": {
    "name": "ipython",
    "version": 3
   },
   "file_extension": ".py",
   "mimetype": "text/x-python",
   "name": "python",
   "nbconvert_exporter": "python",
   "pygments_lexer": "ipython3",
   "version": "3.9.13"
  },
  "orig_nbformat": 4,
  "vscode": {
   "interpreter": {
    "hash": "7fcbe07157c1b3b8993a8bcf56b650e6a442ca8e2c193b390cc5479c8aec347c"
   }
  }
 },
 "nbformat": 4,
 "nbformat_minor": 2
}
